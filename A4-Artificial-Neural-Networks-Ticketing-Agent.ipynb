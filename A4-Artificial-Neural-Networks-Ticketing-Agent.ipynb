{
 "cells": [
  {
   "cell_type": "code",
   "execution_count": 6,
   "metadata": {},
   "outputs": [
    {
     "ename": "SyntaxError",
     "evalue": "unexpected EOF while parsing (<ipython-input-6-95549c65e1d0>, line 58)",
     "output_type": "error",
     "traceback": [
      "\u001b[0;36m  File \u001b[0;32m\"<ipython-input-6-95549c65e1d0>\"\u001b[0;36m, line \u001b[0;32m58\u001b[0m\n\u001b[0;31m    # k = clf.predict_proba([[0,0]])  # let's consider this output\u001b[0m\n\u001b[0m                                                                  ^\u001b[0m\n\u001b[0;31mSyntaxError\u001b[0m\u001b[0;31m:\u001b[0m unexpected EOF while parsing\n"
     ]
    }
   ],
   "source": [
    "import numpy as np\n",
    "import sklearn as sk\n",
    "import pandas as pd\n",
    "\n",
    "from sklearn.neural_network import MLPClassifier\n",
    "\n",
    "def open_dataset(file_name='tickets.csv'):\n",
    "    opened_file = open(file_name)\n",
    "    from csv import reader\n",
    "    read_file = reader(opened_file)\n",
    "    data = list(read_file)\n",
    "\n",
    "    return data\n",
    "\n",
    "\n",
    "\n",
    "\n",
    "# MLPClassifier\n",
    "solver = 'sgd'  # stochastic gradient descendent\n",
    "learning_rate = 'constant'  # default\n",
    "learning_rate_init: float  # learning rate\n",
    "hidden_layer_sizes: tuple  # length = n_layers - 2 #we only need 1 (n_units,)\n",
    "activation = 'logistic'  # the logistic sigmoid function, others available\n",
    "momentum: float  # Momentum\n",
    "verbose = True  # To see the iterations\n",
    "\n",
    "# a different stopping approach\n",
    "tol: float  # default 1e-4 #When the loss or score is not improving by\n",
    "# at least tol for n_iter_no_change consecutive iterations,\n",
    "# convergence is considered to be reached and training stops.\n",
    "n_iter_no_change: int  # number of iterations with no change\n",
    "max_iter: int  # set number of iterations\n",
    "\n",
    "# hidden units 2\n",
    "clf = MLPClassifier(solver='sgd',\n",
    "                    learning_rate_init=0.5, hidden_layer_sizes=(2,),\n",
    "                    verbose=True, momentum=0.5,\n",
    "                    activation='logistic',\n",
    "                    n_iter_no_change=5000, max_iter=10000)\n",
    "\n",
    "X = [[1, 1],\n",
    "     [0, 0],\n",
    "     [1, 0],\n",
    "     [0, 1]]\n",
    "\n",
    "y = [0,\n",
    "     0,\n",
    "     1,\n",
    "     1]\n",
    "\n",
    "print(\"hello\")\n",
    "\n",
    "# clf.fit(X, y)\n",
    "# # Computing the output\n",
    "#\n",
    "# h = clf.predict([[0,0]])\n",
    "# k = clf.predict_proba([[0,0]])  # let's consider this output"
   ]
  },
  {
   "cell_type": "code",
   "execution_count": null,
   "metadata": {},
   "outputs": [],
   "source": []
  }
 ],
 "metadata": {
  "kernelspec": {
   "display_name": "Python 3",
   "language": "python",
   "name": "python3"
  },
  "language_info": {
   "codemirror_mode": {
    "name": "ipython",
    "version": 3
   },
   "file_extension": ".py",
   "mimetype": "text/x-python",
   "name": "python",
   "nbconvert_exporter": "python",
   "pygments_lexer": "ipython3",
   "version": "3.7.5"
  }
 },
 "nbformat": 4,
 "nbformat_minor": 2
}
